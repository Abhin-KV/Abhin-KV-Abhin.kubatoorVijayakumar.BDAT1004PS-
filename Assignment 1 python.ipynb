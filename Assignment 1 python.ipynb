{
 "cells": [
  {
   "cell_type": "markdown",
   "id": "979c2ac5",
   "metadata": {},
   "source": [
    "# Question 6 \n",
    "You can turn a word into pig-Latin using the following two rules(simplified):  \n",
    "If the word starts with a consonant, move that letter to the end and append  \n",
    "'ay'. For example, 'happy' becomes 'appyhay' and 'pencil' becomes 'encilpay'. If the word starts with a vowel, simply append 'way' to the end of the word.  \n",
    "For example, 'enter' becomes 'enterway' and 'other' becomes 'otherway' . For  \n",
    "our purposes, there are 5 vowels: a, e, i, o, u (so we count y as a consonant).  \n",
    "Write a function pig() that takes a word (i.e., a string) as input and returns its pigLatin form. Your function should  still work if the input word contains upper case  \n",
    "characters. Your output should always be lower case however."
   ]
  },
  {
   "cell_type": "code",
   "execution_count": 31,
   "id": "0f59625f",
   "metadata": {},
   "outputs": [
    {
     "name": "stdout",
     "output_type": "stream",
     "text": [
      "Enter the word \n",
      "happy\n",
      "appyhay\n"
     ]
    }
   ],
   "source": [
    "def pig(PL):\n",
    "    vowels = ['a','e','i','o','u']\n",
    "    Pig_latine = input(\"Enter the word \\n\")\n",
    "    letters=Pig_latine.lower()\n",
    "    if letters[0] in vowels: #checking for vowels\n",
    "        final_word = letters+'way'\n",
    "    else:\n",
    "        final_word = letters[1:len(letters)]+letters[0]+'ay' #checking for consonant\n",
    "       \n",
    "    print(final_word)\n",
    "\n",
    "pig(\"PL\")"
   ]
  },
  {
   "cell_type": "markdown",
   "id": "dce9d9cd",
   "metadata": {},
   "source": [
    "# Question 7"
   ]
  },
  {
   "cell_type": "markdown",
   "id": "1865ff8d",
   "metadata": {},
   "source": [
    "File bloodtype1.txt records blood-types of patients (A, B, AB, O or OO) at a clinic.  \n",
    "Write a function bldcount() that reads the file with name name and reports (i.e.,  \n",
    "prints) how many patients there are in each bloodtype."
   ]
  },
  {
   "cell_type": "code",
   "execution_count": 32,
   "id": "1ae252be",
   "metadata": {},
   "outputs": [
    {
     "name": "stdout",
     "output_type": "stream",
     "text": [
      "There are 15 patients of blood type A\n",
      "There is one patients of blood type B\n",
      "There are 13 patients of blood type AB\n",
      "There are no patients of blood type OO\n",
      "There are 15 patients of blood type O\n"
     ]
    }
   ],
   "source": [
    "def bldcount():    \n",
    "    read_file = open(r\"C:\\Users\\abhin\\Desktop\\MOJO_gc\\Data Programming\\Assignment python\\BloodType.txt\",\"r\")\n",
    "    read_context = read_file.read()\n",
    "    \n",
    "    groups = {}\n",
    "    A = read_context.split(\" \").count(\"A\")\n",
    "    B = read_context.split(\" \").count(\"B\")\n",
    "    AB = read_context.split(\" \").count(\"AB\")\n",
    "    OO = read_context.split(\" \").count(\"OO\")\n",
    "    O = read_context.split(\" \").count(\"O\")\n",
    "    groups[\"A\"] = A\n",
    "    groups[\"B\"] = B\n",
    "    groups[\"AB\"] = AB\n",
    "    groups[\"OO\"] = OO\n",
    "    groups[\"O\"] = O\n",
    "\n",
    "    for group1,group2 in groups.items():\n",
    "        if group2 > 0 and group2!=1:\n",
    "            print(\"There are {0} patients of blood type {1}\".format(group2,group1)) #For combined blood groups ie., AB and oo\n",
    "        elif group2 == 1:\n",
    "            print(\"There is one patients of blood type {0}\".format(group1))\n",
    "        else:\n",
    "            print(\"There are no patients of blood type {0}\".format(group1))\n",
    "\n",
    "bldcount()"
   ]
  },
  {
   "cell_type": "markdown",
   "id": "975fd833",
   "metadata": {},
   "source": [
    "# Question 8\n",
    "Write a function curconv() that takes as input:\n",
    "1. a currency represented using a string (e.g., 'JPY' for the Japanese Yen or\n",
    "'EUR' for the Euro)\n",
    "2. an amount\n",
    "and then converts and returns the amount in US dollars."
   ]
  },
  {
   "cell_type": "code",
   "execution_count": 43,
   "id": "23461fd3",
   "metadata": {
    "scrolled": true
   },
   "outputs": [
    {
     "name": "stdout",
     "output_type": "stream",
     "text": [
      "Enter the currency you would like to convert \tJPY\n",
      "\n",
      " Enter the amount\t90\n"
     ]
    },
    {
     "ename": "ValueError",
     "evalue": "could not convert string to float: 'Yen\\n'",
     "output_type": "error",
     "traceback": [
      "\u001b[1;31m---------------------------------------------------------------------------\u001b[0m",
      "\u001b[1;31mValueError\u001b[0m                                Traceback (most recent call last)",
      "Input \u001b[1;32mIn [43]\u001b[0m, in \u001b[0;36m<cell line: 10>\u001b[1;34m()\u001b[0m\n\u001b[0;32m     11\u001b[0m currency \u001b[38;5;241m=\u001b[39m \u001b[38;5;28minput\u001b[39m(\u001b[38;5;124m\"\u001b[39m\u001b[38;5;124mEnter the currency you would like to convert \u001b[39m\u001b[38;5;130;01m\\t\u001b[39;00m\u001b[38;5;124m\"\u001b[39m)\n\u001b[0;32m     12\u001b[0m amount \u001b[38;5;241m=\u001b[39m \u001b[38;5;28mfloat\u001b[39m(\u001b[38;5;28minput\u001b[39m(\u001b[38;5;124m\"\u001b[39m\u001b[38;5;130;01m\\n\u001b[39;00m\u001b[38;5;124m Enter the amount\u001b[39m\u001b[38;5;130;01m\\t\u001b[39;00m\u001b[38;5;124m\"\u001b[39m))\n\u001b[1;32m---> 13\u001b[0m \u001b[43mcurconv\u001b[49m\u001b[43m(\u001b[49m\u001b[43mcurrency\u001b[49m\u001b[43m,\u001b[49m\u001b[43mamount\u001b[49m\u001b[43m)\u001b[49m\n",
      "Input \u001b[1;32mIn [43]\u001b[0m, in \u001b[0;36mcurconv\u001b[1;34m(currency, amount)\u001b[0m\n\u001b[0;32m      4\u001b[0m     File_context\u001b[38;5;241m=\u001b[39m context\u001b[38;5;241m.\u001b[39msplit(\u001b[38;5;124m\"\u001b[39m\u001b[38;5;124m \u001b[39m\u001b[38;5;124m\"\u001b[39m)\n\u001b[0;32m      5\u001b[0m     \u001b[38;5;28;01mif\u001b[39;00m currency\u001b[38;5;241m.\u001b[39mlower() \u001b[38;5;129;01min\u001b[39;00m File_context[\u001b[38;5;241m0\u001b[39m]\u001b[38;5;241m.\u001b[39mlower():\n\u001b[1;32m----> 6\u001b[0m         usd \u001b[38;5;241m=\u001b[39m amount\u001b[38;5;241m*\u001b[39m\u001b[38;5;28;43mfloat\u001b[39;49m\u001b[43m(\u001b[49m\u001b[43mFile_context\u001b[49m\u001b[43m[\u001b[49m\u001b[38;5;241;43m1\u001b[39;49m\u001b[43m]\u001b[49m\u001b[43m)\u001b[49m\n\u001b[0;32m      7\u001b[0m \u001b[38;5;28mprint\u001b[39m(\u001b[38;5;124m\"\u001b[39m\u001b[38;5;124m value in US currency \u001b[39m\u001b[38;5;132;01m{0}\u001b[39;00m\u001b[38;5;124m\"\u001b[39m\u001b[38;5;241m.\u001b[39mformat(usd))\n",
      "\u001b[1;31mValueError\u001b[0m: could not convert string to float: 'Yen\\n'"
     ]
    }
   ],
   "source": [
    "def curconv(currency,amount):    \n",
    "    file_read = open(r\"C:\\Users\\abhin\\Desktop\\MOJO_gc\\Data Programming\\Assignment python\\Currency.txt\",\"r\")\n",
    "    for context in file_read:\n",
    "        File_context= context.split(\" \")\n",
    "        if currency.lower() in File_context[0].lower():\n",
    "            usd = amount*float(File_context[1])\n",
    "    print(\" value in US currency {0}\".format(usd))\n",
    "            \n",
    "            \n",
    "\n",
    "currency = input(\"Enter the currency you would like to convert \\t\")\n",
    "amount = float(input(\"\\n Enter the amount\\t\"))\n",
    "curconv(currency,amount)"
   ]
  },
  {
   "cell_type": "markdown",
   "id": "ce1efdff",
   "metadata": {},
   "source": [
    "# Question 9\n",
    "Each of the following will cause an exception (an error). Identify what type of\n",
    "exception each will cause."
   ]
  },
  {
   "cell_type": "code",
   "execution_count": 15,
   "id": "10ac15e6",
   "metadata": {},
   "outputs": [
    {
     "name": "stdout",
     "output_type": "stream",
     "text": [
      "exception to add incompatible variables: \n",
      "unsupported operand type(s) for +: 'int' and 'str'\n"
     ]
    }
   ],
   "source": [
    "#exception:1\n",
    "print(\"exception to add incompatible variables: \")\n",
    "try:\n",
    "    a= 6+'a'\n",
    "except Exception as e:\n",
    "    print(str(e))"
   ]
  },
  {
   "cell_type": "code",
   "execution_count": 19,
   "id": "db0fb5dc",
   "metadata": {},
   "outputs": [
    {
     "name": "stdout",
     "output_type": "stream",
     "text": [
      "exception for Referring to the 12th item of a list that has only 10 items:\n",
      "list index out of range\n"
     ]
    }
   ],
   "source": [
    "#exception:2\n",
    "print(\"exception for Referring to the 12th item of a list that has only 10 items:\")\n",
    "try:\n",
    "    LT = ['its','lights','out','away','we','go','leclarc','get','a good','start']\n",
    "    print(LT[12])\n",
    "except Exception as e:\n",
    "    print(str(e))\n"
   ]
  },
  {
   "cell_type": "code",
   "execution_count": 13,
   "id": "5abee333",
   "metadata": {},
   "outputs": [
    {
     "name": "stdout",
     "output_type": "stream",
     "text": [
      "exception for Using a value that is out ofrange for a function’s input, such as calling math.sqrt(-1.0): \n",
      "math domain error\n"
     ]
    }
   ],
   "source": [
    "#exception:3\n",
    "print(\"exception for Using a value that is out ofrange for a function’s input, such as calling math.sqrt(-1.0): \")\n",
    "try:\n",
    "    import math\n",
    "    print(math.sqrt(-1.0))\n",
    "except Exception as e:\n",
    "    print(str(e))\n"
   ]
  },
  {
   "cell_type": "code",
   "execution_count": 18,
   "id": "5654af4c",
   "metadata": {},
   "outputs": [
    {
     "name": "stdout",
     "output_type": "stream",
     "text": [
      "exception for Using an undeclared variable, such as print(x)when x has not been defined: \n",
      "name 'x' is not defined\n"
     ]
    }
   ],
   "source": [
    "#exception:4\n",
    "print(\"exception for Using an undeclared variable, such as print(x)when x has not been defined: \")\n",
    "try:\n",
    "    print(x)\n",
    "except Exception as e:\n",
    "    print(str(e))\n"
   ]
  },
  {
   "cell_type": "code",
   "execution_count": 20,
   "id": "3d4da261",
   "metadata": {},
   "outputs": [
    {
     "name": "stdout",
     "output_type": "stream",
     "text": [
      "exception for Trying to open a file that does not exist, such asmistyping the file name or looking in the wrong directory.\n",
      "[Errno 2] No such file or directory: 'C:\\\\Users\\\\abhin\\\\Desktop\\\\MOJO_gc\\\\Data Programming\\\\Assignment python\\\\mojo.txt'\n"
     ]
    }
   ],
   "source": [
    "#exception:5\n",
    "print(\"exception for Trying to open a file that does not exist, such asmistyping the file name or looking in the wrong directory.\")\n",
    "try:\n",
    "    f = open(r\"C:\\Users\\abhin\\Desktop\\MOJO_gc\\Data Programming\\Assignment python\\mojo.txt\",\"r\")\n",
    "except Exception as e:\n",
    "    print(str(e))"
   ]
  },
  {
   "cell_type": "markdown",
   "id": "60234454",
   "metadata": {},
   "source": [
    "# Question 10\n",
    "Encryption is the process of hiding the meaning of a text by substituting letters in the\n",
    "message with other letters, according to some system. If the process is successful, no\n",
    "one but the intended recipient can understand the encrypted message. Cryptanalysis\n",
    "refers to attempts to undo the encryption, even if some details of the encryption are\n",
    "unknown (for example, if an encrypted message has been intercepted). The first step\n",
    "of cryptanalysis is often to build up a table of letter freq"
   ]
  },
  {
   "cell_type": "code",
   "execution_count": 33,
   "id": "ac72f3c6",
   "metadata": {},
   "outputs": [
    {
     "name": "stdout",
     "output_type": "stream",
     "text": [
      "enter string\n",
      "apple\n",
      "[1, 0, 0, 0, 1, 0, 0, 0, 0, 0, 0, 1, 0, 0, 0, 2, 0, 0, 0, 0, 0, 0, 0, 0, 0, 0]\n"
     ]
    }
   ],
   "source": [
    "def Frequencies(string):       \n",
    "    list_of_integer= [] #empty list\n",
    "    word = 'abcdefghijklmnopqrstuvwxyz' \n",
    "   \n",
    "    for w in range(len(word)):\n",
    "        list_of_integer.append(string.count(word[w])) \n",
    "    print(list_of_integer)\n",
    "\n",
    "\n",
    "Frequencies(input(\"enter string\\n\"))"
   ]
  },
  {
   "cell_type": "code",
   "execution_count": null,
   "id": "950aa47c",
   "metadata": {},
   "outputs": [],
   "source": []
  }
 ],
 "metadata": {
  "kernelspec": {
   "display_name": "Python 3 (ipykernel)",
   "language": "python",
   "name": "python3"
  },
  "language_info": {
   "codemirror_mode": {
    "name": "ipython",
    "version": 3
   },
   "file_extension": ".py",
   "mimetype": "text/x-python",
   "name": "python",
   "nbconvert_exporter": "python",
   "pygments_lexer": "ipython3",
   "version": "3.9.12"
  }
 },
 "nbformat": 4,
 "nbformat_minor": 5
}
