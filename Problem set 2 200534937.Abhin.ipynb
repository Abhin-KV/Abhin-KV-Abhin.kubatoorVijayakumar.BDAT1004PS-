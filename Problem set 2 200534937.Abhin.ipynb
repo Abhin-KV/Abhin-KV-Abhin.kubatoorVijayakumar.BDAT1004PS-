{
 "cells": [
  {
   "cell_type": "markdown",
   "id": "e04e582a",
   "metadata": {},
   "source": [
    "# Question 1:\n",
    "Consider the following Python module:\n"
   ]
  },
  {
   "cell_type": "code",
   "execution_count": 68,
   "id": "bd3f7075",
   "metadata": {},
   "outputs": [],
   "source": [
    "a = 0\n",
    "def b():\n",
    "    global a\n",
    "    a = c(a)\n",
    "def c(a):\n",
    "    return a + 2"
   ]
  },
  {
   "cell_type": "code",
   "execution_count": 69,
   "id": "78fe1d39",
   "metadata": {},
   "outputs": [
    {
     "data": {
      "text/plain": [
       "6"
      ]
     },
     "execution_count": 69,
     "metadata": {},
     "output_type": "execute_result"
    }
   ],
   "source": [
    "b()\n",
    "b()\n",
    "b()\n",
    "a"
   ]
  },
  {
   "cell_type": "markdown",
   "id": "7ee4687c",
   "metadata": {},
   "source": [
    "1)What value is displayed when the last expression (a) is evaluated?\n",
    "Explain your Banswer by indicating what happens in every executed statement.\n",
    "\n",
    "\n",
    "Answer: \n",
    "Step 1: a is initialize to 0.\n",
    "Step 2: when b() function is called first time 'a' is initialize to 0.As it us a global variable it is accessible throughout.\n",
    "Step 3: 'a' is passed as an argument i.e., a=c(0) this will return 2 to the variable 'a'.\n",
    "Step 4: Now value of 'a' is 2. when a=c(a) is excuted i.e., a=c(2), value of 'a' will be assigned as 4.\n",
    "Step 5: Now value of 'a' is 4, when a=c(a) is excuted i.e., a=c(4), value of 'a' will be assigned as 6.\n",
    "\n",
    "==> 'a' is a global variable and will get changed everytime it is called by b()."
   ]
  },
  {
   "cell_type": "markdown",
   "id": "5499d422",
   "metadata": {},
   "source": [
    "# Question 2\n",
    "Function fileLength(), given to you, takes the name of a file as input and returns\n",
    "the length of the file:\n"
   ]
  },
  {
   "cell_type": "code",
   "execution_count": 70,
   "id": "77896710",
   "metadata": {},
   "outputs": [],
   "source": [
    "def fileLength(filename):\n",
    "    try:\n",
    "        f = open(filename,\"r\")\n",
    "        content=f.read()\n",
    "        Length=str(len(content))\n",
    "        print(Length)\n",
    "        f.close()\n",
    "        #for line in Length:\n",
    "            #count+=1\n",
    "            # print(count)\n",
    "    except:\n",
    "        print(\"file {0} not found\".format(filename))\n",
    "\n"
   ]
  },
  {
   "cell_type": "code",
   "execution_count": 71,
   "id": "159e706d",
   "metadata": {},
   "outputs": [
    {
     "name": "stdout",
     "output_type": "stream",
     "text": [
      "574\n"
     ]
    }
   ],
   "source": [
    "fileLength(\"midterm.txt\")"
   ]
  },
  {
   "cell_type": "code",
   "execution_count": 72,
   "id": "89c75760",
   "metadata": {},
   "outputs": [
    {
     "name": "stdout",
     "output_type": "stream",
     "text": [
      "file miterm.txt not found\n"
     ]
    }
   ],
   "source": [
    "fileLength(\"miterm.txt\")"
   ]
  },
  {
   "cell_type": "markdown",
   "id": "5f58456e",
   "metadata": {},
   "source": [
    "# Question 3 \n",
    "Write a class named Marsupial that can be used as shown below:  \n",
    "Now write a class named Kangaroo as a subclass of Marsupial that inherits all the  \n",
    "attributes of Marsupial and also:  \n",
    "a. extends the Marsupial __init__ constructor to take, as input, the coordinates x and y of the Kangaroo object,  \n",
    "b. supports method jump that takes number values dx and dy as input and  \n",
    "movesthe kangaroo by dx units along the x-axis and by dy units along the yaxis, and  c. overloads the __str__ operator so it behaves as shown below."
   ]
  },
  {
   "cell_type": "code",
   "execution_count": 73,
   "id": "6f6c3747",
   "metadata": {},
   "outputs": [
    {
     "name": "stdout",
     "output_type": "stream",
     "text": [
      "['doll', 'firetruck', 'kitten']\n"
     ]
    },
    {
     "data": {
      "text/plain": [
       "['doll', 'firetruck', 'kitten']"
      ]
     },
     "execution_count": 73,
     "metadata": {},
     "output_type": "execute_result"
    }
   ],
   "source": [
    "class Marsupial:\n",
    "    def __init__(self):\n",
    "        self.lists = []\n",
    "    \n",
    "    def put_in_pouch(self,item):\n",
    "        self.lists.append(item)\n",
    "    \n",
    "    def pouch_contents(self):\n",
    "        print(self.lists)\n",
    "        return self.lists\n",
    "        \n",
    "        \n",
    "        \n",
    "m = Marsupial()\n",
    "m.put_in_pouch('doll')\n",
    "m.put_in_pouch('firetruck')\n",
    "m.put_in_pouch('kitten')\n",
    "m.pouch_contents()\n"
   ]
  },
  {
   "cell_type": "code",
   "execution_count": 74,
   "id": "49a88b38",
   "metadata": {},
   "outputs": [],
   "source": [
    "class Kangaroo(Marsupial):\n",
    "    def __init__(self,x,y):\n",
    "        super().__init__() #super() function returns a temporary object that allows reference to a parent class \n",
    "        self.x= x\n",
    "        self.y=y\n",
    "    def __str__(self):\n",
    "        return 'I am a Kangaroo located at coordinates ({0},{1})'.format(self.x,self.y)\n",
    "    \n",
    "    def jump(self,a,b):\n",
    "        self.x+=a\n",
    "        self.y+=b\n",
    "        \n",
    "\n"
   ]
  },
  {
   "cell_type": "code",
   "execution_count": 75,
   "id": "023a166f",
   "metadata": {},
   "outputs": [
    {
     "name": "stdout",
     "output_type": "stream",
     "text": [
      "I am a Kangaroo located at coordinates (0,0)\n"
     ]
    }
   ],
   "source": [
    "k = Kangaroo(0,0)\n",
    "print(k)"
   ]
  },
  {
   "cell_type": "code",
   "execution_count": 76,
   "id": "86cf4a2f",
   "metadata": {},
   "outputs": [
    {
     "name": "stdout",
     "output_type": "stream",
     "text": [
      "['doll', 'firetruck', 'kitten']\n"
     ]
    },
    {
     "data": {
      "text/plain": [
       "['doll', 'firetruck', 'kitten']"
      ]
     },
     "execution_count": 76,
     "metadata": {},
     "output_type": "execute_result"
    }
   ],
   "source": [
    "k.put_in_pouch('doll')\n",
    "k.put_in_pouch('firetruck')\n",
    "k.put_in_pouch('kitten')\n",
    "k.pouch_contents()"
   ]
  },
  {
   "cell_type": "code",
   "execution_count": 77,
   "id": "a2a1188b",
   "metadata": {},
   "outputs": [
    {
     "name": "stdout",
     "output_type": "stream",
     "text": [
      "I am a Kangaroo located at coordinates (3,0)\n"
     ]
    }
   ],
   "source": [
    "k.jump(1,0)\n",
    "k.jump(1,0)\n",
    "k.jump(1,0)\n",
    "print(k)"
   ]
  },
  {
   "cell_type": "markdown",
   "id": "c2f7a6f5",
   "metadata": {},
   "source": [
    "# Question 4\n",
    "Write function collatz() that takes a positive integer x as input and prints the\n",
    "Collatz sequence starting at x. A Collatz sequence is obtained by repeatedly applying\n",
    "this rule to the previous number x in the sequence:\n",
    "\n"
   ]
  },
  {
   "cell_type": "code",
   "execution_count": 78,
   "id": "3b35d14b",
   "metadata": {},
   "outputs": [],
   "source": [
    "def collatz(n):\n",
    "\n",
    "    if n!=1:\n",
    "        print(int(n))\n",
    "    #if n == 1:\n",
    "        #print(int(n))\n",
    "        #return\n",
    "        if n % 2 == 0 :        \n",
    "            collatz(n/2)     \n",
    "        else:        \n",
    "            collatz(n*3+1) \n",
    "    else:\n",
    "        print(int(n))"
   ]
  },
  {
   "cell_type": "code",
   "execution_count": 79,
   "id": "1e13f24a",
   "metadata": {},
   "outputs": [
    {
     "name": "stdout",
     "output_type": "stream",
     "text": [
      "10\n",
      "5\n",
      "16\n",
      "8\n",
      "4\n",
      "2\n",
      "1\n"
     ]
    }
   ],
   "source": [
    "collatz(10)"
   ]
  },
  {
   "cell_type": "code",
   "execution_count": 80,
   "id": "73f23ed5",
   "metadata": {},
   "outputs": [
    {
     "name": "stdout",
     "output_type": "stream",
     "text": [
      "1\n"
     ]
    }
   ],
   "source": [
    "collatz(1)"
   ]
  },
  {
   "cell_type": "markdown",
   "id": "1e340388",
   "metadata": {},
   "source": [
    "# Question 5\n",
    "Write a recursive method binary() that takes a non-negative\n",
    "integer n and prints the binary representation of integer n."
   ]
  },
  {
   "cell_type": "code",
   "execution_count": 81,
   "id": "0ec71e81",
   "metadata": {},
   "outputs": [],
   "source": [
    "def binary(n):\n",
    "    n = int(n)\n",
    "    if n == 0:\n",
    "        return 0\n",
    "    elif n>0:\n",
    "        return n%2+10*binary(n/2)"
   ]
  },
  {
   "cell_type": "code",
   "execution_count": 82,
   "id": "484fa099",
   "metadata": {},
   "outputs": [
    {
     "name": "stdout",
     "output_type": "stream",
     "text": [
      "1\n",
      "11\n",
      "1001\n",
      "1011\n"
     ]
    }
   ],
   "source": [
    "print(binary(1))\n",
    "print(binary(3))\n",
    "print(binary(9))\n",
    "print(binary(11))\n"
   ]
  },
  {
   "cell_type": "markdown",
   "id": "7188a3ed",
   "metadata": {},
   "source": [
    "# Question 6\n",
    "Implement a class named HeadingParser that can be used to parse an HTML  \n",
    "document, and retrieve and print all the headings in the document. You should  \n",
    "implement your class as a subclass of HTMLParser, defined in Standard Library  \n",
    "module html.parser. When fed a string containing HTML code, your class should  \n",
    "print the headings, one per line and in the order in which they appear in th  document.Each heading should be indented  \n",
    "asfollows: an h1 heading should have indentation 0, and h2 heading should have indentation 1, etc. Test your  \n",
    "implementation using w3c.html."
   ]
  },
  {
   "cell_type": "code",
   "execution_count": 83,
   "id": "9a5c24fd",
   "metadata": {},
   "outputs": [
    {
     "name": "stdout",
     "output_type": "stream",
     "text": [
      "Requirement already satisfied: beautifulsoup4 in c:\\users\\abhin\\anaconda3\\lib\\site-packages (4.11.1)\n",
      "Requirement already satisfied: soupsieve>1.2 in c:\\users\\abhin\\anaconda3\\lib\\site-packages (from beautifulsoup4) (2.3.1)\n"
     ]
    }
   ],
   "source": [
    "!pip3 install beautifulsoup4"
   ]
  },
  {
   "cell_type": "code",
   "execution_count": 84,
   "id": "b6141b30",
   "metadata": {},
   "outputs": [],
   "source": [
    "from html.parser import HTMLParser\n",
    "import requests\n",
    "from bs4 import BeautifulSoup\n",
    "\n",
    "class HeadingParser:\n",
    "    \n",
    "    def parser(self,html_text):\n",
    "        dicto = {}\n",
    "        soup = BeautifulSoup(html_text, 'html.parser')\n",
    "       \n",
    "        #Html consist of 6 headings i.e., h1,h2,h3,h4,h5,h6.\n",
    "        for i in range(1,7): \n",
    "            headings = \"h\"+str(i)\n",
    "\n",
    "            if soup.find(headings):\n",
    "                head = soup.find(headings)\n",
    "                if headings  in dicto:            \n",
    "                    dicto[headings].append(head.text.split) \n",
    "                elif headings not in dicto:\n",
    "                     dicto[headings] = [head.text] \n",
    "        for key,values in dicto.items():       \n",
    "            if key == \"h1\":\n",
    "                for i in dicto[key]:\n",
    "                    print(\"\"+i)\n",
    "            elif key == \"h2\":\n",
    "                for i in dicto[key]:\n",
    "                    print(\" \"+i)\n",
    "            elif key == \"h3\":\n",
    "                for i in dicto[key]:\n",
    "                    print(\"  \"+i)\n",
    "            elif key == \"h4\":\n",
    "                for i in dicto[key]:\n",
    "                    print(\"   \"+i)\n",
    "            elif key == \"h5\":\n",
    "                for i in dicto[key]:\n",
    "                    print(\"    \"+i)\n",
    "            elif key == \"h6\":\n",
    "                for i in dicto[key]:\n",
    "                    print(\"     \"+i)\n",
    "    "
   ]
  },
  {
   "cell_type": "code",
   "execution_count": 85,
   "id": "0517fab4",
   "metadata": {},
   "outputs": [
    {
     "name": "stdout",
     "output_type": "stream",
     "text": [
      "W3C Mission\n",
      " Principles\n"
     ]
    }
   ],
   "source": [
    "infile = open(\"w3c.html\")\n",
    "content = infile.read()\n",
    "infile.close()\n",
    "hp = HeadingParser()\n",
    "hp.parser(content) "
   ]
  },
  {
   "cell_type": "markdown",
   "id": "2054acb3",
   "metadata": {},
   "source": [
    "# Question 7\n",
    "Implement recursive function webdir() that takes as input: a URL (as a string) and  \n",
    "non-negative integers depth and indent. Your function should visit every web  \n",
    "page reachable from the starting URL web page in depth clicks or less, and print  \n",
    "each web page's URL. As shown below, indentation, specified by indent, should  \n",
    "be used to indicate the depth of a URL.\n"
   ]
  },
  {
   "cell_type": "code",
   "execution_count": 91,
   "id": "6f261aaa",
   "metadata": {},
   "outputs": [],
   "source": [
    "def webdir(url,depth,indent):\n",
    "    if depth <=0 :\n",
    "        return\n",
    "    else :\n",
    "        if 'web_page' in url:\n",
    "            reachable = url.split(\"&web_page\")[0]+\"&web_page=\" + str(depth)\n",
    "            \n",
    "        elif 'web_page' not in url:\n",
    "            reachable = url + \"&web_page=\" + str(depth)\n",
    "        for i in range(depth+1):\n",
    "            if i == depth:\n",
    "                print(reachable)\n",
    "            else:\n",
    "                print(\" \",end=\"\")\n",
    "        depth -=1\n",
    "        webdir(reachable,depth,indent)\n"
   ]
  },
  {
   "cell_type": "code",
   "execution_count": 92,
   "id": "19b82fd3",
   "metadata": {},
   "outputs": [
    {
     "name": "stdout",
     "output_type": "stream",
     "text": [
      "  https://www.ferrari.com/en-CA/formula1&web_page=2\n",
      " https://www.ferrari.com/en-CA/formula1&web_page=1\n"
     ]
    }
   ],
   "source": [
    "webdir(\"https://www.ferrari.com/en-CA/formula1\",2,0)"
   ]
  },
  {
   "cell_type": "markdown",
   "id": "b4aa5ead",
   "metadata": {},
   "source": [
    "# Question 8  \n",
    "Write SQL queries on the below database table that return:  \n",
    "a) All the temperature data.  \n",
    "b) All the cities, but without repetition.  \n",
    "c) All the records for India.  \n",
    "d) All the Fall records.  \n",
    "e) The city, country, and season for which the average rainfall is between 200 and 400 millimeters.  \n",
    "f) The city and country for which the average Fall temperature is above 20  \n",
    "degrees, in increasing temperature order.  \n",
    "g) The total annual rainfall for Cairo.  \n",
    "h) The total rainfall for each season."
   ]
  },
  {
   "cell_type": "markdown",
   "id": "12fdf318",
   "metadata": {},
   "source": [
    "# 8TH SQL QUERIES  \n",
    "import sqlite3  \n",
    "con = sqlite3.connect('Climate_database')  \n",
    "cur = con.cursor()\n",
    "\n",
    "a)cur.execute (SELECT Temperature FROM Climate_database) \n",
    "\n",
    "b)cur.execute (SELECT Distinct City FROM Climate_database) \n",
    "\n",
    "c)cur.execute (SELECT * from Climate_database WHERE country = India)  \n",
    "\n",
    "d)cur.execute (SELECT * from Climate_database WHERE season = Fall)\n",
    "\n",
    "e)cur.execute (SELECT City, Country, Season from Climate_database WHERE Rainfall >= 200 and Rainfall <=400)  \n",
    "\n",
    "f)cur.execute (SELECT City, Country, from Climate_database WHERE Season like 'Fall' and Temperature > 20 ORDER By Temperature)\n",
    "\n",
    "g)cur.execute (SELECT  SUM(Rainfall) , City from Climate_database WHERE City like 'Cairo') \n",
    "\n",
    "h)cur.execute (SELECT SUM(Rainfall), Season FROM Climate_database GROUP BY Season)\n"
   ]
  },
  {
   "cell_type": "markdown",
   "id": "65a90aac",
   "metadata": {},
   "source": [
    "# Question 9\n",
    "Suppose list words is defined as follows:\n",
    "words = ['The', 'quick', 'brown', 'fox', 'jumps', 'over', 'the', 'lazy', 'dog']  \n",
    "Write list comprehension expressions that use list words and generate the following  \n",
    "lists:  \n",
    "a) ['THE', 'QUICK', 'BROWN', 'FOX', 'JUMPS', 'OVER', 'THE','LAZY', 'DOG']  \n",
    "b) ['the', 'quick', 'brown', 'fox', 'jumps', 'over', 'the','lazy', 'dog']  \n",
    "c) [3, 5, 5, 3, 5, 4, 3, 4, 3] (the list of lengths of words in list words).  \n",
    "d) [['THE', 'the', 3], ['QUICK', 'quick', 5], ['BROWN','brown', 5], ['FOX', 'fox', 3], ['JUMPS', 'jumps', 5],['OVER',  \n",
    "'over', 4], ['THE', 'the', 3], ['LAZY', 'lazy',4], ['DOG', 'dog', 3]] (the list containing a list for every word of list  \n",
    "words, where each list contains the word in uppercase and lowercase and the  \n",
    "length of the word.)  \n",
    "e) ['The', 'quick', 'brown', 'fox', 'jumps', 'over', 'the','lazy', 'dog'] (the list of words in list words containing 4 or more characters.)"
   ]
  },
  {
   "cell_type": "code",
   "execution_count": 88,
   "id": "a4cd9752",
   "metadata": {},
   "outputs": [
    {
     "name": "stdout",
     "output_type": "stream",
     "text": [
      "['THE', 'QUICK', 'BROWN', 'FOX', 'JUMPS', 'OVER', 'THE', 'LAZY', 'DOG']\n",
      "['the', 'quick', 'brown', 'fox', 'jumps', 'over', 'the', 'lazy', 'dog']\n",
      "[3, 5, 5, 3, 5, 4, 3, 4, 3]\n"
     ]
    }
   ],
   "source": [
    "words = ['The', 'quick', 'brown', 'fox', 'jumps', 'over','the', 'lazy', 'dog']\n",
    "\n",
    "#1\n",
    "To_upper_case=  [caps.upper() for caps in words]\n",
    "print(To_upper_case)\n",
    "\n",
    "#2\n",
    "To_lower_case=  [low.lower() for low in words]\n",
    "print(To_lower_case)\n",
    "\n",
    "#3\n",
    "Length_list = [len(Length) for Length in words]\n",
    "print(Length_list)\n"
   ]
  },
  {
   "cell_type": "code",
   "execution_count": 89,
   "id": "afc2b68f",
   "metadata": {},
   "outputs": [
    {
     "data": {
      "text/plain": [
       "[['THE', 'the', 3],\n",
       " ['QUICK', 'quick', 5],\n",
       " ['BROWN', 'brown', 5],\n",
       " ['FOX', 'fox', 3],\n",
       " ['JUMPS', 'jumps', 5],\n",
       " ['OVER', 'over', 4],\n",
       " ['THE', 'the', 3],\n",
       " ['LAZY', 'lazy', 4],\n",
       " ['DOG', 'dog', 3]]"
      ]
     },
     "execution_count": 89,
     "metadata": {},
     "output_type": "execute_result"
    }
   ],
   "source": [
    "#4\n",
    "[[list_overall.upper(),list_overall.lower(),len(list_overall)] for list_overall in words]"
   ]
  },
  {
   "cell_type": "code",
   "execution_count": 90,
   "id": "032510a0",
   "metadata": {},
   "outputs": [
    {
     "name": "stdout",
     "output_type": "stream",
     "text": [
      "['quick', 'brown', 'jumps', 'over', 'lazy']\n"
     ]
    }
   ],
   "source": [
    "#5\n",
    "greater_than = [l for l in words if len(l)>=4]\n",
    "print(greater_than)"
   ]
  }
 ],
 "metadata": {
  "kernelspec": {
   "display_name": "Python 3 (ipykernel)",
   "language": "python",
   "name": "python3"
  },
  "language_info": {
   "codemirror_mode": {
    "name": "ipython",
    "version": 3
   },
   "file_extension": ".py",
   "mimetype": "text/x-python",
   "name": "python",
   "nbconvert_exporter": "python",
   "pygments_lexer": "ipython3",
   "version": "3.9.12"
  }
 },
 "nbformat": 4,
 "nbformat_minor": 5
}
